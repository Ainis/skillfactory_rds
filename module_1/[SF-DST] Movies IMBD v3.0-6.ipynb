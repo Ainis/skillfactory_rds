{
 "cells": [
  {
   "cell_type": "code",
   "execution_count": 347,
   "metadata": {
    "_cell_guid": "b1076dfc-b9ad-4769-8c92-a6c4dae69d19",
    "_uuid": "8f2839f25d086af736a60e9eeb907d3b93b6e0e5"
   },
   "outputs": [
    {
     "ename": "FileNotFoundError",
     "evalue": "[Errno 2] No such file or directory: '../input'",
     "output_type": "error",
     "traceback": [
      "\u001b[0;31m---------------------------------------------------------------------------\u001b[0m",
      "\u001b[0;31mFileNotFoundError\u001b[0m                         Traceback (most recent call last)",
      "\u001b[0;32m<ipython-input-347-9edefa0a370a>\u001b[0m in \u001b[0;36m<module>\u001b[0;34m\u001b[0m\n\u001b[1;32m      5\u001b[0m \u001b[0;32mimport\u001b[0m \u001b[0mos\u001b[0m\u001b[0;34m\u001b[0m\u001b[0;34m\u001b[0m\u001b[0m\n\u001b[1;32m      6\u001b[0m \u001b[0;32mfrom\u001b[0m \u001b[0mcollections\u001b[0m \u001b[0;32mimport\u001b[0m \u001b[0mCounter\u001b[0m\u001b[0;34m\u001b[0m\u001b[0;34m\u001b[0m\u001b[0m\n\u001b[0;32m----> 7\u001b[0;31m \u001b[0mprint\u001b[0m\u001b[0;34m(\u001b[0m\u001b[0mos\u001b[0m\u001b[0;34m.\u001b[0m\u001b[0mlistdir\u001b[0m\u001b[0;34m(\u001b[0m\u001b[0;34m\"../input\"\u001b[0m\u001b[0;34m)\u001b[0m\u001b[0;34m)\u001b[0m\u001b[0;34m\u001b[0m\u001b[0;34m\u001b[0m\u001b[0m\n\u001b[0m",
      "\u001b[0;31mFileNotFoundError\u001b[0m: [Errno 2] No such file or directory: '../input'"
     ]
    }
   ],
   "source": [
    "import numpy as np\n",
    "import pandas as pd\n",
    "import seaborn as sns\n",
    "import matplotlib.pyplot as plt\n",
    "import os\n",
    "from collections import Counter\n",
    "print(os.listdir(\"../input\"))"
   ]
  },
  {
   "cell_type": "code",
   "execution_count": 348,
   "metadata": {},
   "outputs": [
    {
     "data": {
      "text/html": [
       "<div>\n",
       "<style scoped>\n",
       "    .dataframe tbody tr th:only-of-type {\n",
       "        vertical-align: middle;\n",
       "    }\n",
       "\n",
       "    .dataframe tbody tr th {\n",
       "        vertical-align: top;\n",
       "    }\n",
       "\n",
       "    .dataframe thead th {\n",
       "        text-align: right;\n",
       "    }\n",
       "</style>\n",
       "<table border=\"1\" class=\"dataframe\">\n",
       "  <thead>\n",
       "    <tr style=\"text-align: right;\">\n",
       "      <th></th>\n",
       "      <th>imdb_id</th>\n",
       "      <th>popularity</th>\n",
       "      <th>budget</th>\n",
       "      <th>revenue</th>\n",
       "      <th>original_title</th>\n",
       "      <th>cast</th>\n",
       "      <th>director</th>\n",
       "      <th>tagline</th>\n",
       "      <th>overview</th>\n",
       "      <th>runtime</th>\n",
       "      <th>genres</th>\n",
       "      <th>production_companies</th>\n",
       "      <th>release_date</th>\n",
       "      <th>vote_count</th>\n",
       "      <th>vote_average</th>\n",
       "      <th>release_year</th>\n",
       "    </tr>\n",
       "  </thead>\n",
       "  <tbody>\n",
       "    <tr>\n",
       "      <th>0</th>\n",
       "      <td>tt0369610</td>\n",
       "      <td>32.985763</td>\n",
       "      <td>150000000</td>\n",
       "      <td>1513528810</td>\n",
       "      <td>Jurassic World</td>\n",
       "      <td>Chris Pratt|Bryce Dallas Howard|Irrfan Khan|Vi...</td>\n",
       "      <td>Colin Trevorrow</td>\n",
       "      <td>The park is open.</td>\n",
       "      <td>Twenty-two years after the events of Jurassic ...</td>\n",
       "      <td>124</td>\n",
       "      <td>Action|Adventure|Science Fiction|Thriller</td>\n",
       "      <td>Universal Studios|Amblin Entertainment|Legenda...</td>\n",
       "      <td>6/9/2015</td>\n",
       "      <td>5562</td>\n",
       "      <td>6.5</td>\n",
       "      <td>2015</td>\n",
       "    </tr>\n",
       "    <tr>\n",
       "      <th>1</th>\n",
       "      <td>tt1392190</td>\n",
       "      <td>28.419936</td>\n",
       "      <td>150000000</td>\n",
       "      <td>378436354</td>\n",
       "      <td>Mad Max: Fury Road</td>\n",
       "      <td>Tom Hardy|Charlize Theron|Hugh Keays-Byrne|Nic...</td>\n",
       "      <td>George Miller</td>\n",
       "      <td>What a Lovely Day.</td>\n",
       "      <td>An apocalyptic story set in the furthest reach...</td>\n",
       "      <td>120</td>\n",
       "      <td>Action|Adventure|Science Fiction|Thriller</td>\n",
       "      <td>Village Roadshow Pictures|Kennedy Miller Produ...</td>\n",
       "      <td>5/13/2015</td>\n",
       "      <td>6185</td>\n",
       "      <td>7.1</td>\n",
       "      <td>2015</td>\n",
       "    </tr>\n",
       "    <tr>\n",
       "      <th>2</th>\n",
       "      <td>tt2908446</td>\n",
       "      <td>13.112507</td>\n",
       "      <td>110000000</td>\n",
       "      <td>295238201</td>\n",
       "      <td>Insurgent</td>\n",
       "      <td>Shailene Woodley|Theo James|Kate Winslet|Ansel...</td>\n",
       "      <td>Robert Schwentke</td>\n",
       "      <td>One Choice Can Destroy You</td>\n",
       "      <td>Beatrice Prior must confront her inner demons ...</td>\n",
       "      <td>119</td>\n",
       "      <td>Adventure|Science Fiction|Thriller</td>\n",
       "      <td>Summit Entertainment|Mandeville Films|Red Wago...</td>\n",
       "      <td>3/18/2015</td>\n",
       "      <td>2480</td>\n",
       "      <td>6.3</td>\n",
       "      <td>2015</td>\n",
       "    </tr>\n",
       "    <tr>\n",
       "      <th>3</th>\n",
       "      <td>tt2488496</td>\n",
       "      <td>11.173104</td>\n",
       "      <td>200000000</td>\n",
       "      <td>2068178225</td>\n",
       "      <td>Star Wars: The Force Awakens</td>\n",
       "      <td>Harrison Ford|Mark Hamill|Carrie Fisher|Adam D...</td>\n",
       "      <td>J.J. Abrams</td>\n",
       "      <td>Every generation has a story.</td>\n",
       "      <td>Thirty years after defeating the Galactic Empi...</td>\n",
       "      <td>136</td>\n",
       "      <td>Action|Adventure|Science Fiction|Fantasy</td>\n",
       "      <td>Lucasfilm|Truenorth Productions|Bad Robot</td>\n",
       "      <td>12/15/2015</td>\n",
       "      <td>5292</td>\n",
       "      <td>7.5</td>\n",
       "      <td>2015</td>\n",
       "    </tr>\n",
       "    <tr>\n",
       "      <th>4</th>\n",
       "      <td>tt2820852</td>\n",
       "      <td>9.335014</td>\n",
       "      <td>190000000</td>\n",
       "      <td>1506249360</td>\n",
       "      <td>Furious 7</td>\n",
       "      <td>Vin Diesel|Paul Walker|Jason Statham|Michelle ...</td>\n",
       "      <td>James Wan</td>\n",
       "      <td>Vengeance Hits Home</td>\n",
       "      <td>Deckard Shaw seeks revenge against Dominic Tor...</td>\n",
       "      <td>137</td>\n",
       "      <td>Action|Crime|Thriller</td>\n",
       "      <td>Universal Pictures|Original Film|Media Rights ...</td>\n",
       "      <td>4/1/2015</td>\n",
       "      <td>2947</td>\n",
       "      <td>7.3</td>\n",
       "      <td>2015</td>\n",
       "    </tr>\n",
       "  </tbody>\n",
       "</table>\n",
       "</div>"
      ],
      "text/plain": [
       "     imdb_id  popularity     budget     revenue                original_title  \\\n",
       "0  tt0369610   32.985763  150000000  1513528810                Jurassic World   \n",
       "1  tt1392190   28.419936  150000000   378436354            Mad Max: Fury Road   \n",
       "2  tt2908446   13.112507  110000000   295238201                     Insurgent   \n",
       "3  tt2488496   11.173104  200000000  2068178225  Star Wars: The Force Awakens   \n",
       "4  tt2820852    9.335014  190000000  1506249360                     Furious 7   \n",
       "\n",
       "                                                cast          director  \\\n",
       "0  Chris Pratt|Bryce Dallas Howard|Irrfan Khan|Vi...   Colin Trevorrow   \n",
       "1  Tom Hardy|Charlize Theron|Hugh Keays-Byrne|Nic...     George Miller   \n",
       "2  Shailene Woodley|Theo James|Kate Winslet|Ansel...  Robert Schwentke   \n",
       "3  Harrison Ford|Mark Hamill|Carrie Fisher|Adam D...       J.J. Abrams   \n",
       "4  Vin Diesel|Paul Walker|Jason Statham|Michelle ...         James Wan   \n",
       "\n",
       "                         tagline  \\\n",
       "0              The park is open.   \n",
       "1             What a Lovely Day.   \n",
       "2     One Choice Can Destroy You   \n",
       "3  Every generation has a story.   \n",
       "4            Vengeance Hits Home   \n",
       "\n",
       "                                            overview  runtime  \\\n",
       "0  Twenty-two years after the events of Jurassic ...      124   \n",
       "1  An apocalyptic story set in the furthest reach...      120   \n",
       "2  Beatrice Prior must confront her inner demons ...      119   \n",
       "3  Thirty years after defeating the Galactic Empi...      136   \n",
       "4  Deckard Shaw seeks revenge against Dominic Tor...      137   \n",
       "\n",
       "                                      genres  \\\n",
       "0  Action|Adventure|Science Fiction|Thriller   \n",
       "1  Action|Adventure|Science Fiction|Thriller   \n",
       "2         Adventure|Science Fiction|Thriller   \n",
       "3   Action|Adventure|Science Fiction|Fantasy   \n",
       "4                      Action|Crime|Thriller   \n",
       "\n",
       "                                production_companies release_date  vote_count  \\\n",
       "0  Universal Studios|Amblin Entertainment|Legenda...     6/9/2015        5562   \n",
       "1  Village Roadshow Pictures|Kennedy Miller Produ...    5/13/2015        6185   \n",
       "2  Summit Entertainment|Mandeville Films|Red Wago...    3/18/2015        2480   \n",
       "3          Lucasfilm|Truenorth Productions|Bad Robot   12/15/2015        5292   \n",
       "4  Universal Pictures|Original Film|Media Rights ...     4/1/2015        2947   \n",
       "\n",
       "   vote_average  release_year  \n",
       "0           6.5          2015  \n",
       "1           7.1          2015  \n",
       "2           6.3          2015  \n",
       "3           7.5          2015  \n",
       "4           7.3          2015  "
      ]
     },
     "execution_count": 348,
     "metadata": {},
     "output_type": "execute_result"
    }
   ],
   "source": [
    "#data = pd.read_csv('../input/imbd-sf/data.csv')\n",
    "data=pd.read_csv('/Users/ioksana/Desktop/Machine Learning/RealDSMill/data_u1_rds.csv')\n",
    "data.head(5)"
   ]
  },
  {
   "cell_type": "code",
   "execution_count": 349,
   "metadata": {},
   "outputs": [
    {
     "data": {
      "text/plain": [
       "1890"
      ]
     },
     "execution_count": 349,
     "metadata": {},
     "output_type": "execute_result"
    }
   ],
   "source": [
    "len(data)"
   ]
  },
  {
   "cell_type": "markdown",
   "metadata": {},
   "source": [
    "# Предобработка датасета"
   ]
  },
  {
   "cell_type": "code",
   "execution_count": 350,
   "metadata": {},
   "outputs": [],
   "source": [
    "answer_ls = [] # создадим список с ответами. сюда будем добавлять ответы по мере прохождения теста\n",
    "# сюда можем вписать создание новых колонок в датасете"
   ]
  },
  {
   "cell_type": "markdown",
   "metadata": {},
   "source": [
    "# 1. У какого фильма из списка самый большой бюджет?\n",
    "Варианты ответов:\n",
    "1. The Dark Knight Rises (tt1345836)\n",
    "2. Spider-Man 3 (tt0413300)\n",
    "3. Avengers: Age of Ultron (tt2395427)\n",
    "4. The Warrior's Way\t(tt1032751)\n",
    "5. Pirates of the Caribbean: On Stranger Tides (tt1298650)"
   ]
  },
  {
   "cell_type": "code",
   "execution_count": 351,
   "metadata": {},
   "outputs": [],
   "source": [
    "# тут вводим ваш ответ и добавлем в его список ответов (сейчас для примера стоит \"1\")\n",
    "answer_1=data[(data.budget==data.budget.max())].original_title.tolist()[0]\n",
    "answer_ls.append(answer_1)"
   ]
  },
  {
   "cell_type": "markdown",
   "metadata": {},
   "source": [
    "# 2. Какой из фильмов самый длительный (в минутах)\n",
    "1. The Lord of the Rings: The Return of the King\t(tt0167260)\n",
    "2. Gods and Generals\t(tt0279111)\n",
    "3. King Kong\t(tt0360717)\n",
    "4. Pearl Harbor\t(tt0213149)\n",
    "5. Alexander\t(tt0346491)"
   ]
  },
  {
   "cell_type": "code",
   "execution_count": 352,
   "metadata": {},
   "outputs": [],
   "source": [
    "answer_2=data[(data.runtime==data.runtime.max())].original_title.tolist()[0]\n",
    "answer_ls.append(answer_2)"
   ]
  },
  {
   "cell_type": "markdown",
   "metadata": {},
   "source": [
    "# 3. Какой из фильмов самый короткий (в минутах)\n",
    "Варианты ответов:\n",
    "\n",
    "1. Home on the Range\ttt0299172\n",
    "2. The Jungle Book 2\ttt0283426\n",
    "3. Winnie the Pooh\ttt1449283\n",
    "4. Corpse Bride\ttt0121164\n",
    "5. Hoodwinked!\ttt0443536"
   ]
  },
  {
   "cell_type": "code",
   "execution_count": 353,
   "metadata": {},
   "outputs": [],
   "source": [
    "answer_3=data[(data.runtime==data.runtime.min())].original_title.tolist()[0]\n",
    "answer_ls.append(answer_3)"
   ]
  },
  {
   "cell_type": "markdown",
   "metadata": {},
   "source": [
    "# 4. Средняя длительность фильма?\n",
    "\n",
    "Варианты ответов:\n",
    "1. 115\n",
    "2. 110\n",
    "3. 105\n",
    "4. 120\n",
    "5. 100\n"
   ]
  },
  {
   "cell_type": "code",
   "execution_count": 354,
   "metadata": {},
   "outputs": [],
   "source": [
    "answer_4=data.runtime.mean()\n",
    "checklist = [115,110,105,120,100]\n",
    "delta = max(checklist) * 10\n",
    "t_answer = answer_4\n",
    "for i in checklist:\n",
    "    t_delta = abs(i - answer_4)\n",
    "    if t_delta < delta:\n",
    "        delta = t_delta\n",
    "        t_answer = i\n",
    "answer_4 = t_answer\n",
    "answer_ls.append(answer_4)"
   ]
  },
  {
   "cell_type": "markdown",
   "metadata": {},
   "source": [
    "# 5. Средняя длительность фильма по медиане?\n",
    "Варианты ответов:\n",
    "1. 106\n",
    "2. 112\n",
    "3. 101\n",
    "4. 120\n",
    "5. 115\n",
    "\n",
    "\n"
   ]
  },
  {
   "cell_type": "code",
   "execution_count": 355,
   "metadata": {},
   "outputs": [],
   "source": [
    "answer_5=data.runtime.median()\n",
    "checklist = [106,112,101,120,115]\n",
    "delta = max(checklist) * 10\n",
    "t_answer = answer_5\n",
    "for i in checklist:\n",
    "    t_delta = abs(i - answer_5)\n",
    "    if t_delta < delta:\n",
    "        delta = t_delta\n",
    "        t_answer = i\n",
    "answer_5 = t_answer\n",
    "answer_ls.append(answer_5)"
   ]
  },
  {
   "cell_type": "markdown",
   "metadata": {},
   "source": [
    "# 6. Какой самый прибыльный фильм?\n",
    "Варианты ответов:\n",
    "1. The Avengers\ttt0848228\n",
    "2. Minions\ttt2293640\n",
    "3. Star Wars: The Force Awakens\ttt2488496\n",
    "4. Furious 7\ttt2820852\n",
    "5. Avatar\ttt0499549"
   ]
  },
  {
   "cell_type": "code",
   "execution_count": 356,
   "metadata": {},
   "outputs": [],
   "source": [
    "answer_6=data[(data.revenue-data.budget)==(data.revenue-data.budget).max()].original_title.tolist()[0]\n",
    "answer_ls.append(answer_6)"
   ]
  },
  {
   "cell_type": "markdown",
   "metadata": {},
   "source": [
    "# 7. Какой фильм самый убыточный?\n",
    "Варианты ответов:\n",
    "1. Supernova tt0134983\n",
    "2. The Warrior's Way tt1032751\n",
    "3. Flushed Away\ttt0424095\n",
    "4. The Adventures of Pluto Nash\ttt0180052\n",
    "5. The Lone Ranger\ttt1210819"
   ]
  },
  {
   "cell_type": "code",
   "execution_count": 357,
   "metadata": {},
   "outputs": [],
   "source": [
    "answer_7=data[(data.revenue-data.budget)==(data.revenue-data.budget).min()].original_title.tolist()[0]\n",
    "answer_ls.append(answer_7)"
   ]
  },
  {
   "cell_type": "markdown",
   "metadata": {},
   "source": [
    "# 8. Сколько всего фильмов в прибыли?\n",
    "Варианты ответов:\n",
    "1. 1478\n",
    "2. 1520\n",
    "3. 1241\n",
    "4. 1135\n",
    "5. 1398\n"
   ]
  },
  {
   "cell_type": "code",
   "execution_count": 358,
   "metadata": {},
   "outputs": [],
   "source": [
    "answer_8=len(data[(data.revenue-data.budget)>0].index)\n",
    "answer_ls.append(answer_8)"
   ]
  },
  {
   "cell_type": "markdown",
   "metadata": {},
   "source": [
    "# 9. Самый прибыльный фильм в 2008 году?\n",
    "Варианты ответов:\n",
    "1. Madagascar: Escape 2 Africa\ttt0479952\n",
    "2. Iron Man\ttt0371746\n",
    "3. Kung Fu Panda\ttt0441773\n",
    "4. The Dark Knight\ttt0468569\n",
    "5. Mamma Mia!\ttt0795421"
   ]
  },
  {
   "cell_type": "code",
   "execution_count": 359,
   "metadata": {},
   "outputs": [],
   "source": [
    "data_2008=data[data.release_year ==2008]\n",
    "answer_9=data_2008[data_2008.revenue==data_2008.revenue.max()].original_title.tolist()[0]\n",
    "answer_ls.append(answer_9)"
   ]
  },
  {
   "cell_type": "markdown",
   "metadata": {},
   "source": [
    "# 10. Самый убыточный фильм за период с 2012 по 2014 (включительно)?\n",
    "Варианты ответов:\n",
    "1. Winter's Tale\ttt1837709\n",
    "2. Stolen\ttt1656186\n",
    "3. Broken City\ttt1235522\n",
    "4. Upside Down\ttt1374992\n",
    "5. The Lone Ranger\ttt1210819\n"
   ]
  },
  {
   "cell_type": "code",
   "execution_count": 360,
   "metadata": {},
   "outputs": [],
   "source": [
    "data_1214=data.query('release_year>=2012 and release_year<=2014')\n",
    "answer_10=data_1214[(data_1214.revenue-data_1214.budget)==(data_1214.revenue-data_1214.budget).min()].original_title.tolist()[0]\n",
    "answer_ls.append(answer_10)"
   ]
  },
  {
   "cell_type": "markdown",
   "metadata": {},
   "source": [
    "# 11. Какого жанра фильмов больше всего?\n",
    "Варианты ответов:\n",
    "1. Action\n",
    "2. Adventure\n",
    "3. Drama\n",
    "4. Comedy\n",
    "5. Thriller"
   ]
  },
  {
   "cell_type": "code",
   "execution_count": 361,
   "metadata": {},
   "outputs": [],
   "source": [
    "genres = data.genres.str.split('|', expand=True)\n",
    "genre = []\n",
    "for i in range(len(genres.columns)):\n",
    "    genre.append(genres[i])\n",
    "result = pd.concat(genre).value_counts()\n",
    "answer_11=result[result==result.max()].index[0]\n",
    "answer_ls.append(answer_11)"
   ]
  },
  {
   "cell_type": "markdown",
   "metadata": {},
   "source": [
    "# 12. Какого жанра среди прибыльных фильмов больше всего?\n",
    "Варианты ответов:\n",
    "1. Drama\n",
    "2. Comedy\n",
    "3. Action\n",
    "4. Thriller\n",
    "5. Adventure"
   ]
  },
  {
   "cell_type": "code",
   "execution_count": 362,
   "metadata": {},
   "outputs": [],
   "source": [
    "profit=data[(data.revenue-data.budget)>0]\n",
    "genres_pr= profit.genres.str.split('|', expand=True)\n",
    "genre_pr = []\n",
    "for i in range(len(genres_pr.columns)):\n",
    "    genre_pr.append(genres_pr[i])\n",
    "result_pr = pd.concat(genre_pr).value_counts()\n",
    "answer_12=result_pr[result_pr==result_pr.max()].index[0]\n",
    "answer_ls.append(answer_12)"
   ]
  },
  {
   "cell_type": "markdown",
   "metadata": {},
   "source": [
    "# 13. Кто из режиссеров снял больше всего фильмов?\n",
    "Варианты ответов:\n",
    "1. Steven Spielberg\n",
    "2. Ridley Scott \n",
    "3. Steven Soderbergh\n",
    "4. Christopher Nolan\n",
    "5. Clint Eastwood"
   ]
  },
  {
   "cell_type": "code",
   "execution_count": 363,
   "metadata": {},
   "outputs": [],
   "source": [
    "direct=data.director.value_counts()\n",
    "answer_13=direct[direct==direct.max()].index[0]\n",
    "answer_ls.append(answer_13)"
   ]
  },
  {
   "cell_type": "markdown",
   "metadata": {},
   "source": [
    "# 14. Кто из режиссеров снял больше всего Прибыльных фильмов?\n",
    "Варианты ответов:\n",
    "1. Steven Soderbergh\n",
    "2. Clint Eastwood\n",
    "3. Steven Spielberg\n",
    "4. Ridley Scott\n",
    "5. Christopher Nolan"
   ]
  },
  {
   "cell_type": "code",
   "execution_count": 364,
   "metadata": {},
   "outputs": [],
   "source": [
    "temp_pr=profit.director.value_counts()\n",
    "answer_14=temp_pr[temp_pr==temp_pr.max()].index[0]\n",
    "answer_ls.append(answer_14)"
   ]
  },
  {
   "cell_type": "markdown",
   "metadata": {},
   "source": [
    "# 15. Кто из режиссеров принес больше всего прибыли?\n",
    "Варианты ответов:\n",
    "1. Steven Spielberg\n",
    "2. Christopher Nolan\n",
    "3. David Yates\n",
    "4. James Cameron\n",
    "5. Peter Jackson\n"
   ]
  },
  {
   "cell_type": "code",
   "execution_count": 365,
   "metadata": {},
   "outputs": [],
   "source": [
    "profit_dir=data.groupby(['director']).sum()\n",
    "answer_15=profit_dir[(profit_dir.revenue-profit_dir.budget)==(profit_dir.revenue-profit_dir.budget).max()].index[0]\n",
    "answer_ls.append(answer_15)"
   ]
  },
  {
   "cell_type": "markdown",
   "metadata": {},
   "source": [
    "# 16. Какой актер принес больше всего прибыли?\n",
    "Варианты ответов:\n",
    "1. Emma Watson\n",
    "2. Johnny Depp\n",
    "3. Michelle Rodriguez\n",
    "4. Orlando Bloom\n",
    "5. Rupert Grint"
   ]
  },
  {
   "cell_type": "code",
   "execution_count": 366,
   "metadata": {},
   "outputs": [],
   "source": [
    "cast = data.cast.str.split('|', expand=True)\n",
    "prof=data.revenue-data.budget\n",
    "profs = []\n",
    "casts = []\n",
    "for i in range(0,len(cast.columns)):\n",
    "    profs.append(prof)\n",
    "    casts.append(cast[i])\n",
    "actors = pd.concat([pd.concat(profs), pd.concat(casts)], axis=1).groupby(1).agg('sum')\n",
    "answer_16=actors[0].idxmax()\n",
    "answer_ls.append(answer_16)"
   ]
  },
  {
   "cell_type": "markdown",
   "metadata": {},
   "source": [
    "# 17. Какой актер принес меньше всего прибыли в 2012 году?\n",
    "Варианты ответов:\n",
    "1. Nicolas Cage\n",
    "2. Danny Huston\n",
    "3. Kirsten Dunst\n",
    "4. Jim Sturgess\n",
    "5. Sami Gayle"
   ]
  },
  {
   "cell_type": "code",
   "execution_count": 367,
   "metadata": {},
   "outputs": [],
   "source": [
    "data_2012 = data.loc[data['release_year'] == 2012]\n",
    "cast = data_2012.cast.str.split('|', expand=True)\n",
    "prof=data_2012.revenue-data_2012.budget\n",
    "profs = []\n",
    "casts = []\n",
    "for i in range(0,len(cast.columns)):\n",
    "    profs.append(prof)\n",
    "    casts.append(cast[i])\n",
    "actors = pd.concat([pd.concat(profs), pd.concat(casts)], axis=1).groupby(1).agg('sum')\n",
    "answer_17=actors[0].idxmin()\n",
    "answer_ls.append(answer_17)"
   ]
  },
  {
   "cell_type": "markdown",
   "metadata": {},
   "source": [
    "# 18. Какой актер снялся в большем количестве высокобюджетных фильмов? (в фильмах где бюджет выше среднего по данной выборке)\n",
    "Варианты ответов:\n",
    "1. Tom Cruise\n",
    "2. Mark Wahlberg \n",
    "3. Matt Damon\n",
    "4. Angelina Jolie\n",
    "5. Adam Sandler"
   ]
  },
  {
   "cell_type": "code",
   "execution_count": 368,
   "metadata": {},
   "outputs": [],
   "source": [
    "med_budget = data.budget.mean()\n",
    "high_budget_data = data[data.budget > med_budget]\n",
    "cast = high_budget_data.cast.str.split('|', expand=True)\n",
    "casts = []\n",
    "for i in range(0,len(cast.columns)):\n",
    "    casts.append(cast[i])\n",
    "actors = pd.concat(casts).to_frame()\n",
    "actors['counter'] = 1\n",
    "res = actors.groupby(by=0).agg('sum')\n",
    "answer_18=res['counter'].idxmax()\n",
    "answer_ls.append(answer_18)"
   ]
  },
  {
   "cell_type": "markdown",
   "metadata": {},
   "source": [
    "# 19. В фильмах какого жанра больше всего снимался Nicolas Cage?  \n",
    "Варианты ответа:\n",
    "1. Drama\n",
    "2. Action\n",
    "3. Thriller\n",
    "4. Adventure\n",
    "5. Crime"
   ]
  },
  {
   "cell_type": "code",
   "execution_count": 369,
   "metadata": {},
   "outputs": [],
   "source": [
    "cage = data[data.cast.str.contains('Nicolas Cage')]\n",
    "cage_genre = cage.genres.str.split('|', expand=True)\n",
    "cage_genres = []\n",
    "for i in range(0,len(cage_genre.columns)):\n",
    "    cage_genres.append(cage_genre[i])\n",
    "cg = pd.concat(cage_genres).to_frame()\n",
    "cg['counter'] = 1\n",
    "res = cg.groupby(by=0).agg('sum')\n",
    "answer_19=res['counter'].idxmax()\n",
    "answer_ls.append(answer_19)"
   ]
  },
  {
   "cell_type": "markdown",
   "metadata": {},
   "source": [
    "# 20. Какая студия сняла больше всего фильмов?\n",
    "Варианты ответа:\n",
    "1. Universal Pictures (Universal)\n",
    "2. Paramount Pictures\n",
    "3. Columbia Pictures\n",
    "4. Warner Bros\n",
    "5. Twentieth Century Fox Film Corporation"
   ]
  },
  {
   "cell_type": "code",
   "execution_count": 370,
   "metadata": {},
   "outputs": [],
   "source": [
    "studio = data.production_companies.str.split('|', expand=True)\n",
    "studios = []\n",
    "for i in range(0,len(studio.columns)):\n",
    "    studios.append(studio[i])\n",
    "stud = pd.concat(studios).to_frame().dropna()\n",
    "stud = stud[0].str.split(' ', expand = True)[0].to_frame()\n",
    "stud['counter'] = 1\n",
    "res = stud.groupby(by=0).agg('sum')\n",
    "answer_20=res['counter'].idxmax()\n",
    "answer_ls.append(answer_20)"
   ]
  },
  {
   "cell_type": "markdown",
   "metadata": {},
   "source": [
    "# 21. Какая студия сняла больше всего фильмов в 2015 году?\n",
    "Варианты ответа:\n",
    "1. Universal Pictures\n",
    "2. Paramount Pictures\n",
    "3. Columbia Pictures\n",
    "4. Warner Bros\n",
    "5. Twentieth Century Fox Film Corporation"
   ]
  },
  {
   "cell_type": "code",
   "execution_count": 371,
   "metadata": {},
   "outputs": [],
   "source": [
    "data_2015 = data.loc[data['release_year'] == 2015]\n",
    "studio = data_2015.production_companies.str.split('|', expand=True)\n",
    "studios = []\n",
    "for i in range(0,len(studio.columns)):\n",
    "    studios.append(studio[i])\n",
    "stud = pd.concat(studios).to_frame().dropna()\n",
    "#stud = stud[0].str.split(' ', expand = True)[0].to_frame()\n",
    "stud['counter'] = 1\n",
    "res = stud.groupby(by=0).agg('sum')\n",
    "answer_21=res['counter'].idxmax()\n",
    "answer_ls.append(answer_21)"
   ]
  },
  {
   "cell_type": "markdown",
   "metadata": {},
   "source": [
    "# 22. Какая студия заработала больше всего денег в жанре комедий за все время?\n",
    "Варианты ответа:\n",
    "1. Warner Bros\n",
    "2. Universal Pictures (Universal)\n",
    "3. Columbia Pictures\n",
    "4. Paramount Pictures\n",
    "5. Walt Disney"
   ]
  },
  {
   "cell_type": "code",
   "execution_count": 372,
   "metadata": {},
   "outputs": [
    {
     "name": "stderr",
     "output_type": "stream",
     "text": [
      "/Users/ioksana/anaconda3/lib/python3.7/site-packages/ipykernel_launcher.py:18: UserWarning: This pattern has match groups. To actually get the groups, use str.extract.\n",
      "/Users/ioksana/anaconda3/lib/python3.7/site-packages/ipykernel_launcher.py:18: UserWarning: This pattern has match groups. To actually get the groups, use str.extract.\n",
      "/Users/ioksana/anaconda3/lib/python3.7/site-packages/ipykernel_launcher.py:18: UserWarning: This pattern has match groups. To actually get the groups, use str.extract.\n",
      "/Users/ioksana/anaconda3/lib/python3.7/site-packages/ipykernel_launcher.py:18: UserWarning: This pattern has match groups. To actually get the groups, use str.extract.\n",
      "/Users/ioksana/anaconda3/lib/python3.7/site-packages/ipykernel_launcher.py:18: UserWarning: This pattern has match groups. To actually get the groups, use str.extract.\n",
      "/Users/ioksana/anaconda3/lib/python3.7/site-packages/ipykernel_launcher.py:18: UserWarning: This pattern has match groups. To actually get the groups, use str.extract.\n",
      "/Users/ioksana/anaconda3/lib/python3.7/site-packages/ipykernel_launcher.py:18: UserWarning: This pattern has match groups. To actually get the groups, use str.extract.\n",
      "/Users/ioksana/anaconda3/lib/python3.7/site-packages/ipykernel_launcher.py:18: UserWarning: This pattern has match groups. To actually get the groups, use str.extract.\n",
      "/Users/ioksana/anaconda3/lib/python3.7/site-packages/ipykernel_launcher.py:18: UserWarning: This pattern has match groups. To actually get the groups, use str.extract.\n",
      "/Users/ioksana/anaconda3/lib/python3.7/site-packages/ipykernel_launcher.py:18: UserWarning: This pattern has match groups. To actually get the groups, use str.extract.\n",
      "/Users/ioksana/anaconda3/lib/python3.7/site-packages/ipykernel_launcher.py:18: UserWarning: This pattern has match groups. To actually get the groups, use str.extract.\n",
      "/Users/ioksana/anaconda3/lib/python3.7/site-packages/ipykernel_launcher.py:18: UserWarning: This pattern has match groups. To actually get the groups, use str.extract.\n",
      "/Users/ioksana/anaconda3/lib/python3.7/site-packages/ipykernel_launcher.py:16: UserWarning: This pattern has match groups. To actually get the groups, use str.extract.\n",
      "  app.launch_new_instance()\n",
      "/Users/ioksana/anaconda3/lib/python3.7/site-packages/ipykernel_launcher.py:18: UserWarning: This pattern has match groups. To actually get the groups, use str.extract.\n"
     ]
    }
   ],
   "source": [
    "#тут лезут варнинги, не смогла победить(())\n",
    "comedy_data = data[data.genres.str.contains('Comedy')]\n",
    "prof = comedy_data.revenue-comedy_data.budget\n",
    "comedy_data.loc[ :,'Profit'] = prof\n",
    "\n",
    "comedy_studios = comedy_data.production_companies.str.split('|', expand=True).melt().dropna().value.unique()\n",
    "\n",
    "studios_profit = {}\n",
    "studios_profit['Universal'] = 0\n",
    "studios_profit['Warner'] = 0\n",
    "\n",
    "for s in comedy_studios:\n",
    "    if 'Universal' in s:\n",
    "        studios_profit['Universal'] += comedy_data[comedy_data.production_companies.str.contains(s)].Profit.sum()\n",
    "    elif 'Warner' in s:\n",
    "        studios_profit['Warner'] += comedy_data[comedy_data.production_companies.str.contains(s)].Profit.sum()\n",
    "    else:\n",
    "        studios_profit[s] = comedy_data[comedy_data.production_companies.str.contains(s)].Profit.sum()\n",
    "answer_22=[k for k, v in studios_profit.items() if v == max(studios_profit.values())][0]\n",
    "answer_ls.append(answer_22)"
   ]
  },
  {
   "cell_type": "markdown",
   "metadata": {},
   "source": [
    "# 23. Какая студия заработала больше всего денег в 2012 году?\n",
    "Варианты ответа:\n",
    "1. Universal Pictures (Universal)\n",
    "2. Warner Bros\n",
    "3. Columbia Pictures\n",
    "4. Paramount Pictures\n",
    "5. Lucasfilm"
   ]
  },
  {
   "cell_type": "code",
   "execution_count": 373,
   "metadata": {},
   "outputs": [
    {
     "name": "stderr",
     "output_type": "stream",
     "text": [
      "/Users/ioksana/anaconda3/lib/python3.7/site-packages/ipykernel_launcher.py:16: UserWarning: This pattern has match groups. To actually get the groups, use str.extract.\n",
      "  app.launch_new_instance()\n",
      "/Users/ioksana/anaconda3/lib/python3.7/site-packages/ipykernel_launcher.py:16: UserWarning: This pattern has match groups. To actually get the groups, use str.extract.\n",
      "  app.launch_new_instance()\n",
      "/Users/ioksana/anaconda3/lib/python3.7/site-packages/ipykernel_launcher.py:16: UserWarning: This pattern has match groups. To actually get the groups, use str.extract.\n",
      "  app.launch_new_instance()\n"
     ]
    }
   ],
   "source": [
    "#и тут непобежденные варнинги\n",
    "data_2012 = data.loc[data['release_year'] == 2012]\n",
    "prof = data_2012.revenue-data_2012.budget\n",
    "data_2012.loc[ :,'Profit'] = prof\n",
    "studios_2012 = data_2012.production_companies.str.split('|', expand=True).melt().dropna().value.unique()\n",
    "studios_profit = {}\n",
    "studios_profit['Universal'] = 0\n",
    "studios_profit['Warner'] = 0\n",
    "\n",
    "for s in studios_2012:\n",
    "    if 'Universal' in s:\n",
    "        studios_profit['Universal'] += data_2012[data_2012.production_companies.str.contains(s)].Profit.sum()\n",
    "    elif 'Warner' in s:\n",
    "        studios_profit['Warner'] += data_2012[data_2012.production_companies.str.contains(s)].Profit.sum()\n",
    "    else:\n",
    "        studios_profit[s] = data_2012[data_2012.production_companies.str.contains(s)].Profit.sum()\n",
    "answer_23=[k for k, v in studios_profit.items() if v == max(studios_profit.values())][0]\n",
    "answer_ls.append(answer_23)"
   ]
  },
  {
   "cell_type": "markdown",
   "metadata": {},
   "source": [
    "# 24. Самый убыточный фильм от Paramount Pictures\n",
    "Варианты ответа:\n",
    "\n",
    "1. K-19: The Widowmaker tt0267626\n",
    "2. Next tt0435705\n",
    "3. Twisted tt0315297\n",
    "4. The Love Guru tt0811138\n",
    "5. The Fighter tt0964517"
   ]
  },
  {
   "cell_type": "code",
   "execution_count": 374,
   "metadata": {},
   "outputs": [],
   "source": [
    "ParPict_data = data[data.production_companies.str.contains('Paramount Pictures')]\n",
    "ParPict_data.loc[ :,'Profit'] = ParPict_data.revenue - ParPict_data.budget\n",
    "answer_24=ParPict_data[ParPict_data.Profit == ParPict_data.Profit.min()].original_title.tolist()[0]\n",
    "answer_ls.append(answer_24)"
   ]
  },
  {
   "cell_type": "markdown",
   "metadata": {},
   "source": [
    "# 25. Какой Самый прибыльный год (заработали больше всего)?\n",
    "Варианты ответа:\n",
    "1. 2014\n",
    "2. 2008\n",
    "3. 2012\n",
    "4. 2002\n",
    "5. 2015"
   ]
  },
  {
   "cell_type": "code",
   "execution_count": 375,
   "metadata": {},
   "outputs": [],
   "source": [
    "data.loc[ :,'Profit'] = data.revenue - data.budget\n",
    "agr = data.groupby(by='release_year').agg('sum').Profit.to_frame()\n",
    "answer_25=agr[agr.Profit == agr.Profit.max()].index[0]\n",
    "answer_ls.append(answer_25)"
   ]
  },
  {
   "cell_type": "markdown",
   "metadata": {},
   "source": [
    "# 26. Какой Самый прибыльный год для студии Warner Bros?\n",
    "Варианты ответа:\n",
    "1. 2014\n",
    "2. 2008\n",
    "3. 2012\n",
    "4. 2010\n",
    "5. 2015"
   ]
  },
  {
   "cell_type": "code",
   "execution_count": 376,
   "metadata": {},
   "outputs": [],
   "source": [
    "WarBros_data = data[data.production_companies.str.contains('Warner')]\n",
    "agr = WarBros_data.groupby(by='release_year').agg('sum').Profit.to_frame()\n",
    "res = agr[agr.Profit == agr.Profit.max()].index[0]\n",
    "answer_26=res\n",
    "answer_ls.append(answer_26)"
   ]
  },
  {
   "cell_type": "markdown",
   "metadata": {},
   "source": [
    "# 27. В каком месяце за все годы суммарно вышло больше всего фильмов?\n",
    "Варианты ответа:\n",
    "1. Январь\n",
    "2. Июнь\n",
    "3. Декабрь\n",
    "4. Сентябрь\n",
    "5. Май"
   ]
  },
  {
   "cell_type": "code",
   "execution_count": 377,
   "metadata": {},
   "outputs": [],
   "source": [
    "month_fr = data.release_date.str.split('/', expand = True)[0].to_frame()\n",
    "month_text = ['Январь','Февраль','Март','Апрель','Май','Июнь','Июль','Август','Сентябрь','Октябрь','Ноябрь','Декабрь']\n",
    "month_fr['counter'] = 1\n",
    "answer_27=month_text[int((month_fr.groupby(by=0).agg('sum').idxmax()[0])) - 1]\n",
    "answer_ls.append(answer_27)"
   ]
  },
  {
   "cell_type": "markdown",
   "metadata": {},
   "source": [
    "# 28. Сколько суммарно вышло фильмов летом? (за июнь, июль, август)\n",
    "Варианты ответа:\n",
    "1. 345\n",
    "2. 450\n",
    "3. 478\n",
    "4. 523\n",
    "5. 381"
   ]
  },
  {
   "cell_type": "code",
   "execution_count": 378,
   "metadata": {},
   "outputs": [],
   "source": [
    "month_fr = data.release_date.str.split('/', expand = True)[0].to_frame()\n",
    "month_fr['counter'] = 1\n",
    "tmp = month_fr.groupby(by=0).agg('sum')\n",
    "answer_28=int(tmp.loc['6']) + int(tmp.loc['7']) + int(tmp.loc['8'])\n",
    "answer_ls.append(answer_28)"
   ]
  },
  {
   "cell_type": "markdown",
   "metadata": {},
   "source": [
    "# 29. Какой режисер выпускает (суммарно по годам) больше всего фильмов зимой?\n",
    "Варианты ответов:\n",
    "1. Steven Soderbergh\n",
    "2. Christopher Nolan\n",
    "3. Clint Eastwood\n",
    "4. Ridley Scott\n",
    "5. Peter Jackson"
   ]
  },
  {
   "cell_type": "code",
   "execution_count": 379,
   "metadata": {},
   "outputs": [],
   "source": [
    "data_wm = data\n",
    "data_wm['Month'] = data.release_date.str.split('/', expand = True)[0]\n",
    "data_winter = pd.concat([data_wm[data_wm.Month == '1'], data_wm[data_wm.Month == '2'], data_wm[data_wm.Month == '12']])\n",
    "res = data_winter.director.to_frame()\n",
    "res['counter'] = 1\n",
    "answer_29=res.groupby(by='director').agg('sum').idxmax()[0]\n",
    "answer_ls.append(answer_29)"
   ]
  },
  {
   "cell_type": "markdown",
   "metadata": {},
   "source": [
    "# 30. Какой месяц чаще всего по годам самый прибыльный?\n",
    "Варианты ответа:\n",
    "1. Январь\n",
    "2. Июнь\n",
    "3. Декабрь\n",
    "4. Сентябрь\n",
    "5. Май"
   ]
  },
  {
   "cell_type": "code",
   "execution_count": 380,
   "metadata": {},
   "outputs": [],
   "source": [
    "df_wm = data\n",
    "df_wm['Month'] = data.release_date.str.split('/', expand = True)[0]\n",
    "month_text = ['Январь','Февраль','Март','Апрель','Май','Июнь','Июль','Август','Сентябрь','Октябрь','Ноябрь','Декабрь']\n",
    "m = []\n",
    "m_means = []\n",
    "for i in range(1,13):\n",
    "    m.append(data_wm[data_wm.Month == str(i)])\n",
    "    m_means.append(m[i-1]['Profit'].mean())\n",
    "answer_30=month_text[m_means.index(max(m_means))]\n",
    "answer_ls.append(answer_30)"
   ]
  },
  {
   "cell_type": "markdown",
   "metadata": {},
   "source": [
    "# 31. Названия фильмов какой студии в среднем самые длинные по количеству символов?\n",
    "Варианты ответа:\n",
    "1. Universal Pictures (Universal)\n",
    "2. Warner Bros\n",
    "3. Jim Henson Company, The\n",
    "4. Paramount Pictures\n",
    "5. Four By Two Productions"
   ]
  },
  {
   "cell_type": "code",
   "execution_count": 381,
   "metadata": {},
   "outputs": [],
   "source": [
    "studios = data.production_companies.str.split('|', expand=True).melt().value.dropna().unique()\n",
    "data_temp = data\n",
    "data_temp['title'] = data.original_title\n",
    "data_temp['title_len'] = data.original_title.str.len()\n",
    "\n",
    "studios_stat = {e: [] for e in studios}\n",
    "for i in range(len(data_temp.index)):\n",
    "    for s in studios:\n",
    "        if s in data_temp.loc[i,'production_companies']:\n",
    "            studios_stat[s].append(data_temp.loc[i,'title_len'])\n",
    "\n",
    "for s in studios:\n",
    "    studios_stat[s] = pd.Series(studios_stat[s]).mean()\n",
    "answer_31=[k for k, v in studios_stat.items() if v == max(studios_stat.values())][0]\n",
    "answer_ls.append(answer_31)"
   ]
  },
  {
   "cell_type": "markdown",
   "metadata": {},
   "source": [
    "# 32. Названия фильмов какой студии в среднем самые длинные по количеству слов?\n",
    "Варианты ответа:\n",
    "1. Universal Pictures (Universal)\n",
    "2. Warner Bros\n",
    "3. Jim Henson Company, The\n",
    "4. Paramount Pictures\n",
    "5. Four By Two Productions"
   ]
  },
  {
   "cell_type": "code",
   "execution_count": 382,
   "metadata": {},
   "outputs": [],
   "source": [
    "studios = data.production_companies.str.split('|', expand=True).melt().value.dropna().unique()\n",
    "data_temp = data\n",
    "data_temp['title'] = data.original_title\n",
    "data_temp['title_len'] = data.original_title.str.split(' ', expand = False).str.len()\n",
    "\n",
    "studios_stat = {e: [] for e in studios}\n",
    "for i in range(len(data_temp.index)):\n",
    "    for s in studios:\n",
    "        if s in data_temp.loc[i,'production_companies']:\n",
    "            studios_stat[s].append(data_temp.loc[i,'title_len'])\n",
    "\n",
    "for s in studios:\n",
    "    studios_stat[s] = pd.Series(studios_stat[s]).mean()\n",
    "answer_32=[k for k, v in studios_stat.items() if v == max(studios_stat.values())][0]\n",
    "answer_ls.append(answer_32)"
   ]
  },
  {
   "cell_type": "markdown",
   "metadata": {},
   "source": [
    "# 33. Сколько разных слов используется в названиях фильмов?(без учета регистра)\n",
    "Варианты ответа:\n",
    "1. 6540\n",
    "2. 1002\n",
    "3. 2461\n",
    "4. 28304\n",
    "5. 3432"
   ]
  },
  {
   "cell_type": "code",
   "execution_count": 383,
   "metadata": {},
   "outputs": [],
   "source": [
    "def slash_str(s):\n",
    "    res = ''\n",
    "    rem = ['&']#,':',',',';','-','!','?','.','0','1','2','3','4','5','6','7','8','9']\n",
    "    #Кажется правильным будет использовать весь ряд rem, потому что пунктуация и цифры не являются словами. \n",
    "    #Но судя по ответу теста - слова считаются с : либо ! в конце и числа как отдельные слова\n",
    "    for i in range(len(s)):\n",
    "        if s[i] not in rem:\n",
    "            res = res + s[i]\n",
    "    return res\n",
    "\n",
    "all_words = data.original_title.str.split(' ',expand = True).melt().value.dropna().tolist()\n",
    "for w in all_words:\n",
    "    all_words[all_words.index(w)] = slash_str(w.lower())\n",
    "answer_33=len(set(all_words))\n",
    "answer_ls.append(answer_33)"
   ]
  },
  {
   "cell_type": "markdown",
   "metadata": {},
   "source": [
    "# 34. Какие фильмы входят в 1 процент лучших по рейтингу?\n",
    "Варианты ответа:\n",
    "1. Inside Out, Gone Girl, 12 Years a Slave\n",
    "2. BloodRayne, The Adventures of Rocky & Bullwinkle\n",
    "3. The Lord of the Rings: The Return of the King\n",
    "4. 300, Lucky Number Slevin"
   ]
  },
  {
   "cell_type": "code",
   "execution_count": 384,
   "metadata": {},
   "outputs": [],
   "source": [
    "data_top_rated = data.sort_values(by='vote_average', ascending = False).head(int(len(data.index)*0.01))\n",
    "top_list = data_top_rated.original_title.tolist()\n",
    "checklist = [['Inside Out', 'Gone Girl', '12 Years a Slave'],\n",
    "             ['BloodRayne', 'The Adventures of Rocky and Bullwinkle'],\n",
    "             ['The Lord of the Rings: The Return of the King', 'Upside Down'],\n",
    "             ['300', 'Lucky Number Slevin'],\n",
    "             ['Upside Down', '300', 'Inside Out', 'The Lord of the Rings: The Return of the King']]\n",
    "for entity in checklist:\n",
    "    flag = True\n",
    "    for l in entity:\n",
    "        if l not in top_list:\n",
    "            flag = False\n",
    "            break\n",
    "    if flag:\n",
    "        answer_34_list = entity\n",
    "answer_34 = ''\n",
    "for i in answer_34_list:\n",
    "    answer_34 = answer_34 + ',' + i\n",
    "answer_34 = answer_34[1:len(answer_34)]\n",
    "answer_ls.append(answer_34)"
   ]
  },
  {
   "cell_type": "markdown",
   "metadata": {},
   "source": [
    "# 35. Какие актеры чаще всего снимаются в одном фильме вместе\n",
    "Варианты ответа:\n",
    "1. Johnny Depp & Helena Bonham Carter\n",
    "2. Hugh Jackman & Ian McKellen\n",
    "3. Vin Diesel & Paul Walker\n",
    "4. Adam Sandler & Kevin James\n",
    "5. Daniel Radcliffe & Rupert Grint"
   ]
  },
  {
   "cell_type": "code",
   "execution_count": 385,
   "metadata": {},
   "outputs": [],
   "source": [
    "#\n",
    "title_casts = pd.DataFrame({'title': data.original_title})\n",
    "title_casts = pd.concat([title_casts, data.cast.str.split('|', expand = True)], axis = 1)\n",
    "cast_index = data.cast.str.split('|', expand = True).melt().dropna().value.unique().tolist()\n",
    "\n",
    "casts_link_frequency = pd.DataFrame(index = cast_index)\n",
    "for i in cast_index:\n",
    "    casts_link_frequency[str(i)] = 0\n",
    "\n",
    "for i in range(0,len(title_casts.index)):\n",
    "    for j in range(0,5):\n",
    "        for q in range(j,5):\n",
    "            if title_casts.loc[i, j] == None or title_casts.loc[i, q] == None:\n",
    "                continue\n",
    "            if str(title_casts.loc[i, j]) != str(title_casts.loc[i, q]):\n",
    "                casts_link_frequency.loc[str(title_casts.loc[i, j]),str(title_casts.loc[i, q])] += 1\n",
    "\n",
    "maximum = casts_link_frequency.max().max()\n",
    "\n",
    "answer_list = []\n",
    "for i in cast_index: #потому что максимумов несколько, и мы выберем тот который есть в вопросе\n",
    "    for j in cast_index:\n",
    "        if casts_link_frequency.loc[i, j] == maximum:\n",
    "            answer_list.append(i + ' & ' + j)\n",
    "            \n",
    "checklist = ['Johnny Depp & Helena Bonham Carte', 'Hugh Jackman & Ian McKelle', \n",
    "             'Vin Diesel & Paul Walker', 'Adam Sandler & Kevin James', 'Daniel Radcliffe & Rupert Grint']\n",
    "for answer_35 in answer_list:\n",
    "    if answer_35 in checklist:\n",
    "        answer_ls.append(answer_35)"
   ]
  },
  {
   "cell_type": "markdown",
   "metadata": {},
   "source": [
    "# 36. У какого из режиссеров выше вероятность выпустить фильм в прибыли? (5 баллов)101\n",
    "Варианты ответа:\n",
    "1. Quentin Tarantino\n",
    "2. Steven Soderbergh\n",
    "3. Robert Rodriguez\n",
    "4. Christopher Nolan\n",
    "5. Clint Eastwood"
   ]
  },
  {
   "cell_type": "code",
   "execution_count": 386,
   "metadata": {},
   "outputs": [
    {
     "name": "stderr",
     "output_type": "stream",
     "text": [
      "/Users/ioksana/anaconda3/lib/python3.7/site-packages/ipykernel_launcher.py:21: FutureWarning: \n",
      "Passing list-likes to .loc or [] with any missing label will raise\n",
      "KeyError in the future, you can use .reindex() as an alternative.\n",
      "\n",
      "See the documentation here:\n",
      "https://pandas.pydata.org/pandas-docs/stable/indexing.html#deprecate-loc-reindex-listlike\n"
     ]
    }
   ],
   "source": [
    "data['Profit'] = data.revenue - data.budget\n",
    "data_profitable = data[data.Profit > 0]\n",
    "res = data_profitable.director.str.split('|', expand = True).melt().dropna().value.to_frame()\n",
    "res['profitable'] = 1\n",
    "res = res.groupby(by='value').agg('sum')\n",
    "\n",
    "#если процент от количества фильмов этого режисера\n",
    "res2 = data.director.str.split('|', expand = True).melt().dropna().value.to_frame()\n",
    "res2['overall'] = 1\n",
    "res2 = res2.groupby(by='value').agg('sum')\n",
    "res['overall'] = res2.overall\n",
    "\n",
    "#если процент от всего фильмов в датасете\n",
    "#res['overall'] = len(df.index)\n",
    "res['percent'] = (res.profitable/res.overall)*100\n",
    "#display(res.sort_values(by='percent', ascending = False))\n",
    "\n",
    "#много режисеров у которых 100% прибыльных, поэтому смотрим по списку из вопроса кто подойдет. \n",
    "#Из этого списка только 1 в итоге имеет 100%-ю прибыльность\n",
    "checklist = ['Quentin Tarantino', 'Steven Soderbergh','Robert Rodrigue','Christopher Nolan','Clint Eastwood']\n",
    "answer_36=res.loc[checklist].sort_values(by='percent', ascending = False).index[0]\n",
    "answer_ls.append(answer_36)"
   ]
  },
  {
   "cell_type": "markdown",
   "metadata": {},
   "source": [
    "# Submission"
   ]
  },
  {
   "cell_type": "code",
   "execution_count": 387,
   "metadata": {},
   "outputs": [
    {
     "name": "stdout",
     "output_type": "stream",
     "text": [
      "36\n"
     ]
    }
   ],
   "source": [
    "print(len(answer_ls))"
   ]
  },
  {
   "cell_type": "code",
   "execution_count": 388,
   "metadata": {},
   "outputs": [
    {
     "data": {
      "text/html": [
       "<div>\n",
       "<style scoped>\n",
       "    .dataframe tbody tr th:only-of-type {\n",
       "        vertical-align: middle;\n",
       "    }\n",
       "\n",
       "    .dataframe tbody tr th {\n",
       "        vertical-align: top;\n",
       "    }\n",
       "\n",
       "    .dataframe thead th {\n",
       "        text-align: right;\n",
       "    }\n",
       "</style>\n",
       "<table border=\"1\" class=\"dataframe\">\n",
       "  <thead>\n",
       "    <tr style=\"text-align: right;\">\n",
       "      <th></th>\n",
       "      <th>Id</th>\n",
       "      <th>Answer</th>\n",
       "    </tr>\n",
       "  </thead>\n",
       "  <tbody>\n",
       "    <tr>\n",
       "      <th>0</th>\n",
       "      <td>1</td>\n",
       "      <td>The Warrior's Way</td>\n",
       "    </tr>\n",
       "    <tr>\n",
       "      <th>1</th>\n",
       "      <td>2</td>\n",
       "      <td>Gods and Generals</td>\n",
       "    </tr>\n",
       "    <tr>\n",
       "      <th>2</th>\n",
       "      <td>3</td>\n",
       "      <td>Winnie the Pooh</td>\n",
       "    </tr>\n",
       "    <tr>\n",
       "      <th>3</th>\n",
       "      <td>4</td>\n",
       "      <td>110</td>\n",
       "    </tr>\n",
       "    <tr>\n",
       "      <th>4</th>\n",
       "      <td>5</td>\n",
       "      <td>106</td>\n",
       "    </tr>\n",
       "    <tr>\n",
       "      <th>5</th>\n",
       "      <td>6</td>\n",
       "      <td>Avatar</td>\n",
       "    </tr>\n",
       "    <tr>\n",
       "      <th>6</th>\n",
       "      <td>7</td>\n",
       "      <td>The Warrior's Way</td>\n",
       "    </tr>\n",
       "    <tr>\n",
       "      <th>7</th>\n",
       "      <td>8</td>\n",
       "      <td>1478</td>\n",
       "    </tr>\n",
       "    <tr>\n",
       "      <th>8</th>\n",
       "      <td>9</td>\n",
       "      <td>The Dark Knight</td>\n",
       "    </tr>\n",
       "    <tr>\n",
       "      <th>9</th>\n",
       "      <td>10</td>\n",
       "      <td>The Lone Ranger</td>\n",
       "    </tr>\n",
       "    <tr>\n",
       "      <th>10</th>\n",
       "      <td>11</td>\n",
       "      <td>Drama</td>\n",
       "    </tr>\n",
       "    <tr>\n",
       "      <th>11</th>\n",
       "      <td>12</td>\n",
       "      <td>Drama</td>\n",
       "    </tr>\n",
       "    <tr>\n",
       "      <th>12</th>\n",
       "      <td>13</td>\n",
       "      <td>Steven Soderbergh</td>\n",
       "    </tr>\n",
       "    <tr>\n",
       "      <th>13</th>\n",
       "      <td>14</td>\n",
       "      <td>Ridley Scott</td>\n",
       "    </tr>\n",
       "    <tr>\n",
       "      <th>14</th>\n",
       "      <td>15</td>\n",
       "      <td>Peter Jackson</td>\n",
       "    </tr>\n",
       "    <tr>\n",
       "      <th>15</th>\n",
       "      <td>16</td>\n",
       "      <td>Emma Watson</td>\n",
       "    </tr>\n",
       "    <tr>\n",
       "      <th>16</th>\n",
       "      <td>17</td>\n",
       "      <td>Kirsten Dunst</td>\n",
       "    </tr>\n",
       "    <tr>\n",
       "      <th>17</th>\n",
       "      <td>18</td>\n",
       "      <td>Matt Damon</td>\n",
       "    </tr>\n",
       "    <tr>\n",
       "      <th>18</th>\n",
       "      <td>19</td>\n",
       "      <td>Action</td>\n",
       "    </tr>\n",
       "    <tr>\n",
       "      <th>19</th>\n",
       "      <td>20</td>\n",
       "      <td>Warner</td>\n",
       "    </tr>\n",
       "    <tr>\n",
       "      <th>20</th>\n",
       "      <td>21</td>\n",
       "      <td>Warner Bros.</td>\n",
       "    </tr>\n",
       "    <tr>\n",
       "      <th>21</th>\n",
       "      <td>22</td>\n",
       "      <td>Universal</td>\n",
       "    </tr>\n",
       "    <tr>\n",
       "      <th>22</th>\n",
       "      <td>23</td>\n",
       "      <td>Columbia Pictures</td>\n",
       "    </tr>\n",
       "    <tr>\n",
       "      <th>23</th>\n",
       "      <td>24</td>\n",
       "      <td>K-19: The Widowmaker</td>\n",
       "    </tr>\n",
       "    <tr>\n",
       "      <th>24</th>\n",
       "      <td>25</td>\n",
       "      <td>2015</td>\n",
       "    </tr>\n",
       "    <tr>\n",
       "      <th>25</th>\n",
       "      <td>26</td>\n",
       "      <td>2014</td>\n",
       "    </tr>\n",
       "    <tr>\n",
       "      <th>26</th>\n",
       "      <td>27</td>\n",
       "      <td>Сентябрь</td>\n",
       "    </tr>\n",
       "    <tr>\n",
       "      <th>27</th>\n",
       "      <td>28</td>\n",
       "      <td>450</td>\n",
       "    </tr>\n",
       "    <tr>\n",
       "      <th>28</th>\n",
       "      <td>29</td>\n",
       "      <td>Peter Jackson</td>\n",
       "    </tr>\n",
       "    <tr>\n",
       "      <th>29</th>\n",
       "      <td>30</td>\n",
       "      <td>Июнь</td>\n",
       "    </tr>\n",
       "    <tr>\n",
       "      <th>30</th>\n",
       "      <td>31</td>\n",
       "      <td>Four By Two Productions</td>\n",
       "    </tr>\n",
       "    <tr>\n",
       "      <th>31</th>\n",
       "      <td>32</td>\n",
       "      <td>Four By Two Productions</td>\n",
       "    </tr>\n",
       "    <tr>\n",
       "      <th>32</th>\n",
       "      <td>33</td>\n",
       "      <td>2461</td>\n",
       "    </tr>\n",
       "    <tr>\n",
       "      <th>33</th>\n",
       "      <td>34</td>\n",
       "      <td>Inside Out,Gone Girl,12 Years a Slave</td>\n",
       "    </tr>\n",
       "    <tr>\n",
       "      <th>34</th>\n",
       "      <td>35</td>\n",
       "      <td>Daniel Radcliffe &amp; Rupert Grint</td>\n",
       "    </tr>\n",
       "    <tr>\n",
       "      <th>35</th>\n",
       "      <td>36</td>\n",
       "      <td>Christopher Nolan</td>\n",
       "    </tr>\n",
       "  </tbody>\n",
       "</table>\n",
       "</div>"
      ],
      "text/plain": [
       "    Id                                 Answer\n",
       "0    1                      The Warrior's Way\n",
       "1    2                      Gods and Generals\n",
       "2    3                        Winnie the Pooh\n",
       "3    4                                    110\n",
       "4    5                                    106\n",
       "5    6                                 Avatar\n",
       "6    7                      The Warrior's Way\n",
       "7    8                                   1478\n",
       "8    9                        The Dark Knight\n",
       "9   10                        The Lone Ranger\n",
       "10  11                                  Drama\n",
       "11  12                                  Drama\n",
       "12  13                      Steven Soderbergh\n",
       "13  14                           Ridley Scott\n",
       "14  15                          Peter Jackson\n",
       "15  16                            Emma Watson\n",
       "16  17                          Kirsten Dunst\n",
       "17  18                             Matt Damon\n",
       "18  19                                 Action\n",
       "19  20                                 Warner\n",
       "20  21                           Warner Bros.\n",
       "21  22                              Universal\n",
       "22  23                      Columbia Pictures\n",
       "23  24                   K-19: The Widowmaker\n",
       "24  25                                   2015\n",
       "25  26                                   2014\n",
       "26  27                               Сентябрь\n",
       "27  28                                    450\n",
       "28  29                          Peter Jackson\n",
       "29  30                                   Июнь\n",
       "30  31                Four By Two Productions\n",
       "31  32                Four By Two Productions\n",
       "32  33                                   2461\n",
       "33  34  Inside Out,Gone Girl,12 Years a Slave\n",
       "34  35        Daniel Radcliffe & Rupert Grint\n",
       "35  36                      Christopher Nolan"
      ]
     },
     "execution_count": 388,
     "metadata": {},
     "output_type": "execute_result"
    }
   ],
   "source": [
    "pd.DataFrame({'Id':range(1,len(answer_ls)+1), 'Answer':answer_ls}, columns=['Id', 'Answer'])"
   ]
  },
  {
   "cell_type": "code",
   "execution_count": null,
   "metadata": {},
   "outputs": [],
   "source": []
  }
 ],
 "metadata": {
  "kernelspec": {
   "display_name": "Python 3",
   "language": "python",
   "name": "python3"
  },
  "language_info": {
   "codemirror_mode": {
    "name": "ipython",
    "version": 3
   },
   "file_extension": ".py",
   "mimetype": "text/x-python",
   "name": "python",
   "nbconvert_exporter": "python",
   "pygments_lexer": "ipython3",
   "version": "3.7.1"
  }
 },
 "nbformat": 4,
 "nbformat_minor": 4
}
